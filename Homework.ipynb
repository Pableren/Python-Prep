{
 "cells": [
  {
   "cell_type": "code",
   "execution_count": 1,
   "metadata": {},
   "outputs": [],
   "source": [
    "def NumeroBinario(numero):\n",
    "    '''\n",
    "    numero_decimal = 29\n",
    "    modulos = []\n",
    "    while numero_decimal != 0:\n",
    "        modulos.insert(0,numero_decimal % 2) \n",
    "        numero_decimal //= 2\n",
    "    '''\n",
    "    modulos_residuo = []\n",
    "    while numero !=0 and type(numero)== int:\n",
    "        residuo = numero %2\n",
    "        cociente = numero//2\n",
    "        print(\"numero actual:\",numero)\n",
    "        print(\"resto o modulo actual:\",residuo)\n",
    "        print(\"cociente actual:\",cociente)\n",
    "        modulos_residuo.append(residuo)\n",
    "        numero = cociente\n",
    "    print(modulos_residuo)\n",
    "    \n",
    "    return None"
   ]
  },
  {
   "cell_type": "markdown",
   "metadata": {},
   "source": [
    "- Se crea una lista para guardar los modulos o residuos\n",
    "- Paso 1: dividir entre 2 para obtener de la division: el modulo, residuo o resto, y el cociente(cuantas veces entra en).\n",
    "- guardar el modulo calculado\n",
    "- el valor del cociente para a ser el numero de entrada."
   ]
  },
  {
   "cell_type": "code",
   "execution_count": 2,
   "metadata": {},
   "outputs": [
    {
     "name": "stdout",
     "output_type": "stream",
     "text": [
      "numero actual: 15\n",
      "resto o modulo actual: 1\n",
      "cociente actual: 7\n",
      "numero actual: 7\n",
      "resto o modulo actual: 1\n",
      "cociente actual: 3\n",
      "numero actual: 3\n",
      "resto o modulo actual: 1\n",
      "cociente actual: 1\n",
      "numero actual: 1\n",
      "resto o modulo actual: 1\n",
      "cociente actual: 0\n",
      "[1, 1, 1, 1]\n"
     ]
    }
   ],
   "source": [
    "NumeroBinario(15)"
   ]
  },
  {
   "cell_type": "code",
   "execution_count": 3,
   "metadata": {},
   "outputs": [
    {
     "name": "stdout",
     "output_type": "stream",
     "text": [
      "[1, 1, 1, 0, 1]\n"
     ]
    }
   ],
   "source": [
    "# Es posible obtener la lista invertida de la siguiente manera\n",
    "# modulos = modulos[::-1].\n",
    "# O tambien, cuando insertamos los elementos, los ponemos en la\n",
    "# posiciones 0.\n",
    "\n",
    "numero_decimal = 29\n",
    "\n",
    "modulos = []\n",
    "\n",
    "while numero_decimal != 0:\n",
    "    modulos.insert(0, numero_decimal % 2)\n",
    "    numero_decimal //= 2\n",
    "\n",
    "print(modulos)"
   ]
  },
  {
   "cell_type": "code",
   "execution_count": 15,
   "metadata": {},
   "outputs": [
    {
     "name": "stdout",
     "output_type": "stream",
     "text": [
      "11101\n"
     ]
    }
   ],
   "source": [
    "numero_decimal = 29\n",
    "\n",
    "numero_binario = 0\n",
    "multiplicador = 1\n",
    "while numero_decimal != 0:\n",
    "    numero_binario = numero_binario + numero_decimal % 2 * multiplicador\n",
    "    numero_decimal //= 2 \n",
    "    multiplicador *= 10\n",
    "\n",
    "print(numero_binario)"
   ]
  },
  {
   "cell_type": "code",
   "execution_count": 12,
   "metadata": {},
   "outputs": [
    {
     "data": {
      "text/plain": [
       "'\\nnumero_binario = 0\\nmultiplicador = 1\\nwhile numero_decimal != 0:\\n    numero_binario = numero_binario + numero_decimal % 2 * multiplicador\\n    numero_decimal //= 2 \\n    multiplicador *= 10\\n\\nprint(numero_binario)\\n'"
      ]
     },
     "execution_count": 12,
     "metadata": {},
     "output_type": "execute_result"
    }
   ],
   "source": [
    "def NumeroBinario(numero):\n",
    "    numero_binario = 0\n",
    "    multiplicador = 1\n",
    "    if numero == 0:\n",
    "        return 0\n",
    "    if numero < 0:\n",
    "        return None\n",
    "    \n",
    "    while numero != 0:\n",
    "        numero_binario = numero_binario + numero % 2 * multiplicador\n",
    "        numero //= 2 \n",
    "        multiplicador *= 10\n",
    "    return numero_binario\n",
    "\n",
    "\"\"\"\n",
    "numero_binario = 0\n",
    "multiplicador = 1\n",
    "while numero_decimal != 0:\n",
    "    numero_binario = numero_binario + numero_decimal % 2 * multiplicador\n",
    "    numero_decimal //= 2 \n",
    "    multiplicador *= 10\n",
    "\n",
    "print(numero_binario)\n",
    "\"\"\""
   ]
  },
  {
   "cell_type": "code",
   "execution_count": 16,
   "metadata": {},
   "outputs": [
    {
     "data": {
      "text/plain": [
       "11111"
      ]
     },
     "execution_count": 16,
     "metadata": {},
     "output_type": "execute_result"
    }
   ],
   "source": [
    "NumeroBinario(31)"
   ]
  },
  {
   "cell_type": "code",
   "execution_count": 17,
   "metadata": {},
   "outputs": [],
   "source": [
    "def Fraccion_binaria(num):\n",
    "    if (type(num) != float):\n",
    "        return None\n",
    "    if ((num > 1) or (num < 0)):\n",
    "        return None\n",
    "    elif (num == 0):\n",
    "        return 0\n",
    "    \n",
    "    lista_binaria = []\n",
    "    limite = 24\n",
    "    i = 0\n",
    "    while ((num > 0) and (i < limite)):\n",
    "        # introducir solamente la parte entera (0 o 1) a la lista\n",
    "        lista_binaria.append(int(num*2))\n",
    "        print(lista_binaria)\n",
    "        print(\"valor de num:\",num,\"valor de num *2: \", num*2)\n",
    "        num = num *2 - (int(num*2))\n",
    "        i +=1\n",
    "    numero_b = '0.'\n",
    "    for e in lista_binaria:\n",
    "        numero_b = numero_b + str(e)\n",
    "\n",
    "    return(numero_b) "
   ]
  },
  {
   "cell_type": "code",
   "execution_count": 19,
   "metadata": {},
   "outputs": [
    {
     "name": "stdout",
     "output_type": "stream",
     "text": [
      "[0]\n",
      "valor de num: 0.25 valor de num *2:  0.5\n",
      "[0, 1]\n",
      "valor de num: 0.5 valor de num *2:  1.0\n"
     ]
    },
    {
     "data": {
      "text/plain": [
       "'0.01'"
      ]
     },
     "execution_count": 19,
     "metadata": {},
     "output_type": "execute_result"
    }
   ],
   "source": [
    "Fraccion_binaria(1/4)"
   ]
  },
  {
   "cell_type": "code",
   "execution_count": null,
   "metadata": {},
   "outputs": [],
   "source": []
  }
 ],
 "metadata": {
  "kernelspec": {
   "display_name": "Python 3",
   "language": "python",
   "name": "python3"
  },
  "language_info": {
   "codemirror_mode": {
    "name": "ipython",
    "version": 3
   },
   "file_extension": ".py",
   "mimetype": "text/x-python",
   "name": "python",
   "nbconvert_exporter": "python",
   "pygments_lexer": "ipython3",
   "version": "3.11.4"
  }
 },
 "nbformat": 4,
 "nbformat_minor": 2
}
