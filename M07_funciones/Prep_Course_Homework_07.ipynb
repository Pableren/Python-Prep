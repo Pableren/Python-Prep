{
 "cells": [
  {
   "attachments": {},
   "cell_type": "markdown",
   "metadata": {},
   "source": [
    "## Funciones"
   ]
  },
  {
   "attachments": {},
   "cell_type": "markdown",
   "metadata": {},
   "source": [
    "1) Crear una función que reciba un número como parámetro y devuelva True si es primo y False si no lo es"
   ]
  },
  {
   "cell_type": "code",
   "execution_count": 1,
   "metadata": {},
   "outputs": [],
   "source": [
    "def es_primo(num):\n",
    "    for n in range(2,num):\n",
    "        if num %n==0:\n",
    "            return False\n",
    "            break\n",
    "    return True"
   ]
  },
  {
   "cell_type": "code",
   "execution_count": 2,
   "metadata": {},
   "outputs": [],
   "source": [
    "def verifica_primo(nro):\n",
    "    es_primo = True  # Variable para almacenar el resultado de la verificación de número primo\n",
    "    for i in range(2, nro):  # Iteración sobre los números desde 2 hasta nro-1\n",
    "        if nro % i == 0:  # Verificación si nro es divisible por i (no es primo)\n",
    "            es_primo = False  # Se marca la variable como False indicando que el número no es primo\n",
    "            break  # Se rompe el bucle ya que no es necesario continuar la verificación\n",
    "    return es_primo  # Se devuelve el resultado de la verificación de número primo"
   ]
  },
  {
   "cell_type": "code",
   "execution_count": 3,
   "metadata": {},
   "outputs": [
    {
     "data": {
      "text/plain": [
       "True"
      ]
     },
     "execution_count": 3,
     "metadata": {},
     "output_type": "execute_result"
    }
   ],
   "source": [
    "verifica_primo(11)"
   ]
  },
  {
   "cell_type": "code",
   "execution_count": 4,
   "metadata": {},
   "outputs": [
    {
     "data": {
      "text/plain": [
       "False"
      ]
     },
     "execution_count": 4,
     "metadata": {},
     "output_type": "execute_result"
    }
   ],
   "source": [
    "es_primo(12)"
   ]
  },
  {
   "attachments": {},
   "cell_type": "markdown",
   "metadata": {},
   "source": [
    "2) Utilizando la función del punto 1, realizar otra función que reciba de parámetro una lista de números y devuelva sólo aquellos que son primos en otra lista"
   ]
  },
  {
   "cell_type": "code",
   "execution_count": 5,
   "metadata": {},
   "outputs": [],
   "source": [
    "def primos_lista(primos):\n",
    "    lis = []\n",
    "    for num in primos:\n",
    "        if es_primo(num):\n",
    "            lis.append(num)\n",
    "        else:\n",
    "            pass\n",
    "    return lis"
   ]
  },
  {
   "cell_type": "code",
   "execution_count": 6,
   "metadata": {},
   "outputs": [],
   "source": [
    "def extrae_primos_de_lista(lista):\n",
    "    lista_primos = []  # Lista para almacenar los números primos extraídos\n",
    "    for elemento in lista:  # Iteración sobre cada elemento de la lista\n",
    "        if verifica_primo(int(elemento)):  # Verificación si el elemento es un número primo\n",
    "            lista_primos.append(elemento)  # Si es primo, se agrega a la lista de primos\n",
    "    return lista_primos  # Se devuelve la lista de números primos extraídos\n"
   ]
  },
  {
   "cell_type": "code",
   "execution_count": 7,
   "metadata": {},
   "outputs": [
    {
     "name": "stdout",
     "output_type": "stream",
     "text": [
      "[1, 2, 3, 5, 7, 11, 13]\n",
      "[1, 2, 3, 5, 7, 11, 13]\n"
     ]
    }
   ],
   "source": [
    "print(primos_lista([1,2,3,4,5,6,7,8,9,10,11,12,13]))\n",
    "print(extrae_primos_de_lista([1,2,3,4,5,6,7,8,9,10,11,12,13]))"
   ]
  },
  {
   "attachments": {},
   "cell_type": "markdown",
   "metadata": {},
   "source": [
    "3) Crear una función que al recibir una lista de números, devuelva el que más se repite y cuántas veces lo hace. Si hay más de un \"más repetido\", que devuelva cualquiera"
   ]
  },
  {
   "cell_type": "code",
   "execution_count": 34,
   "metadata": {},
   "outputs": [
    {
     "name": "stdout",
     "output_type": "stream",
     "text": [
      "{1: 2, 2: 4, 3: 2, 4: 2, 5: 2, 6: 2, 12: 1}\n",
      "()\n",
      "{1: 2, 2: 4, 3: 2, 4: 2, 5: 2, 6: 2, 12: 1}\n"
     ]
    }
   ],
   "source": [
    "lista = [1,2,3,1,4,5,6,3,2,4,5,6,2,12,2]\n",
    "dict(zip(lista,map(lambda x: lista.count(x),lista)))\n",
    "a = zip(lista,map(lambda x: lista.count(x),lista))\n",
    "#Utilizamos map() y le aplicamos una lambda esta lambda obtendrá la veces que se repite un valor,\n",
    "#esto para cada valer de la lista. Luego se utiliza zip() para mezclar ambos datos y\n",
    "#obtener una tapa para posteriormente pasarlo a un diccionario.\n",
    "print(dict(a))\n",
    "print(dict(zip(lista,map(lambda x: lista.count(x),lista))))"
   ]
  },
  {
   "cell_type": "code",
   "execution_count": 25,
   "metadata": {},
   "outputs": [],
   "source": [
    "def mas_frecuente(numeros):\n",
    "    repeticiones = []\n",
    "    unicos = []\n",
    "    for num in numeros:\n",
    "        if num in unicos:\n",
    "            i = unicos.index(num)\n",
    "            repeticiones[i] = repeticiones[i] + 1\n",
    "        else:\n",
    "            unicos.append(num)\n",
    "            repeticiones.append(1)\n",
    "    moda = unicos[0]\n",
    "    maximo = repeticiones[0]\n",
    "    for indice, elemento in enumerate(unicos):\n",
    "        if repeticiones[indice]>maximo:\n",
    "            moda = unicos[indice]\n",
    "            maximo = repeticiones[indice]\n",
    "    return moda,maximo"
   ]
  },
  {
   "cell_type": "code",
   "execution_count": 30,
   "metadata": {},
   "outputs": [],
   "source": [
    "def valor_modal(lista):\n",
    "    lista_unicos = []  # Lista para almacenar los elementos únicos de la lista\n",
    "    lista_repeticiones = []  # Lista para almacenar las repeticiones de cada elemento único\n",
    "    if len(lista) == 0:  # Verificación si la lista está vacía\n",
    "        return None  # Si la lista está vacía, se devuelve None\n",
    "    for elemento in lista:  # Iteración sobre cada elemento de la lista\n",
    "        if elemento in lista_unicos:  # Verificación si el elemento ya está en la lista de únicos\n",
    "            i = lista_unicos.index(elemento)  # Se obtiene el índice del elemento en la lista de únicos\n",
    "            lista_repeticiones[i] += 1  # Se incrementa el contador de repeticiones para ese elemento\n",
    "        else:\n",
    "            lista_unicos.append(elemento)  # Si es un elemento único, se agrega a la lista de únicos\n",
    "            lista_repeticiones.append(1)  # Se inicializa el contador de repeticiones para ese elemento en 1\n",
    "    moda = lista_unicos[0]  # Se asume que el primer elemento de la lista de únicos es la moda inicialmente\n",
    "    maximo = lista_repeticiones[0]  # Se asume que el primer contador de repeticiones es el máximo inicialmente\n",
    "    for i, elemento in enumerate(lista_unicos):  # Iteración sobre cada elemento único y su índice\n",
    "        if lista_repeticiones[i] > maximo:  # Verificación si el contador de repeticiones es mayor al máximo actual\n",
    "            moda = lista_unicos[i]  # Se actualiza la moda con el nuevo elemento con más repeticiones\n",
    "            maximo = lista_repeticiones[i]  # Se actualiza el máximo con el nuevo contador de repeticiones mayor\n",
    "    return moda, maximo  # Se devuelve la moda y el máximo de repeticiones como una tupla"
   ]
  },
  {
   "cell_type": "code",
   "execution_count": 29,
   "metadata": {},
   "outputs": [
    {
     "name": "stdout",
     "output_type": "stream",
     "text": [
      "(1, 3)\n"
     ]
    }
   ],
   "source": [
    "lis = [1,1,5,6,8,10,22,5,6,4,1,11,9,5]\n",
    "print(mas_frecuente(lis))"
   ]
  },
  {
   "attachments": {},
   "cell_type": "markdown",
   "metadata": {},
   "source": [
    "4) Crear una función que convierta entre grados Celsius, Farenheit y Kelvin<br>\n",
    "Fórmula 1\t: (°C × 9/5) + 32 = °F<br>\n",
    "Fórmula 2\t: °C + 273.15 = °K<br>\n",
    "Debe recibir 3 parámetros: el valor, la medida de orígen y la medida de destino\n"
   ]
  },
  {
   "cell_type": "code",
   "execution_count": 51,
   "metadata": {},
   "outputs": [],
   "source": [
    "def convertidor_grados(grados,origen,destino):\n",
    "    valor_final = 0\n",
    "    if origen == \"C\" and destino == \"K\":\n",
    "        return (grados+273.15)\n",
    "    elif origen == \"C\" and destino ==\"F\":\n",
    "        return ((grados*(9/5)+32))\n",
    "    elif origen == \"F\" and destino ==\"K\":\n",
    "        return ((grados-32)*(5/9)+273.15)\n",
    "    elif origen == \"F\" and destino ==\"C\":\n",
    "        return ((grados-32)*5/9)\n",
    "    elif origen == \"K\" and destino ==\"C\":\n",
    "        return (grados-273.15)\n",
    "    elif origen == \"K\" and destino ==\"F\":\n",
    "        return ((grados-273.15)*9/5+32)\n",
    "    elif str(origen) == str(destino):\n",
    "        return grados\n",
    "    else:\n",
    "        print(\"Valores no validos\")\n",
    "        return None\n",
    "    "
   ]
  },
  {
   "cell_type": "code",
   "execution_count": 45,
   "metadata": {},
   "outputs": [],
   "source": [
    "def conversion_grados(valor, origen, destino):\n",
    "    # Función que realiza la conversión de grados entre diferentes unidades\n",
    "    # Parámetros:\n",
    "    # - valor: el valor numérico a convertir\n",
    "    # - origen: la unidad de origen (celsius, farenheit, kelvin)\n",
    "    # - destino: la unidad de destino (celsius, farenheit, kelvin)\n",
    "\n",
    "    if origen == 'celsius':\n",
    "        if destino == 'celsius':\n",
    "            valor_destino = valor  # Si la unidad de origen y destino es la misma, no se realiza ninguna conversión\n",
    "        elif destino == 'farenheit':\n",
    "            valor_destino = (valor * 9 / 5) + 32  # Conversión de Celsius a Farenheit\n",
    "        elif destino == 'kelvin':\n",
    "            valor_destino = valor + 273.15  # Conversión de Celsius a Kelvin\n",
    "        else:\n",
    "            print('Parámetro de Destino incorrecto')  # Mensaje de error si el parámetro de destino no es válido\n",
    "    elif origen == 'farenheit':\n",
    "        if destino == 'celsius':\n",
    "            valor_destino = (valor - 32) * 5 / 9  # Conversión de Farenheit a Celsius\n",
    "        elif destino == 'farenheit':\n",
    "            valor_destino = valor  # Si la unidad de origen y destino es la misma, no se realiza ninguna conversión\n",
    "        elif destino == 'kelvin':\n",
    "            valor_destino = ((valor - 32) * 5 / 9) + 273.15  # Conversión de Farenheit a Kelvin\n",
    "        else:\n",
    "            print('Parámetro de Destino incorrecto')  # Mensaje de error si el parámetro de destino no es válido\n",
    "    elif origen == 'kelvin':\n",
    "        if destino == 'celsius':\n",
    "            valor_destino = valor - 273.15  # Conversión de Kelvin a Celsius\n",
    "        elif destino == 'farenheit':\n",
    "            valor_destino = ((valor - 273.15) * 9 / 5) + 32  # Conversión de Kelvin a Farenheit\n",
    "        elif destino == 'kelvin':\n",
    "            valor_destino = valor  # Si la unidad de origen y destino es la misma, no se realiza ninguna conversión\n",
    "        else:\n",
    "            print('Parámetro de Destino incorrecto')  # Mensaje de error si el parámetro de destino no es válido\n",
    "    else:\n",
    "        print('Parámetro de Origen incorrecto')  # Mensaje de error si el parámetro de origen no es válido\n",
    "    \n",
    "    return valor_destino  # Retorna el valor convertido en la unidad de destino"
   ]
  },
  {
   "cell_type": "code",
   "execution_count": 54,
   "metadata": {},
   "outputs": [
    {
     "name": "stdout",
     "output_type": "stream",
     "text": [
      "122.0\n",
      "-369.66999999999996\n",
      "283.15\n",
      "50\n"
     ]
    }
   ],
   "source": [
    "print(convertidor_grados(50,\"C\",\"F\"))\n",
    "print(convertidor_grados(50,\"K\",\"F\"))\n",
    "print(convertidor_grados(50,\"F\",\"K\"))\n",
    "print(convertidor_grados(50,\"C\",\"C\"))"
   ]
  },
  {
   "cell_type": "code",
   "execution_count": 46,
   "metadata": {},
   "outputs": [
    {
     "name": "stdout",
     "output_type": "stream",
     "text": [
      "1 grado Celsius a Celsius: 1\n",
      "1 grado Celsius a Kelvin: 274.15\n",
      "1 grado Celsius a Farenheit: 33.8\n",
      "1 grado Kelvin a Celsius: -272.15\n",
      "1 grado Kelvin a Kelvin: 1\n",
      "1 grado Kelvin a Farenheit: -457.87\n",
      "1 grado Farenheit a Celsius: -17.22222222222222\n",
      "1 grado Farenheit a Kelvin: 255.92777777777775\n",
      "1 grado Farenheit a Farenheit: 1\n"
     ]
    }
   ],
   "source": [
    "print('1 grado Celsius a Celsius:', conversion_grados(1, 'celsius', 'celsius'))\n",
    "print('1 grado Celsius a Kelvin:', conversion_grados(1, 'celsius', 'kelvin'))\n",
    "print('1 grado Celsius a Farenheit:', conversion_grados(1, 'celsius', 'farenheit'))\n",
    "print('1 grado Kelvin a Celsius:', conversion_grados(1, 'kelvin', 'celsius'))\n",
    "print('1 grado Kelvin a Kelvin:', conversion_grados(1, 'kelvin', 'kelvin'))\n",
    "print('1 grado Kelvin a Farenheit:', conversion_grados(1, 'kelvin', 'farenheit'))\n",
    "print('1 grado Farenheit a Celsius:', conversion_grados(1, 'farenheit', 'celsius'))\n",
    "print('1 grado Farenheit a Kelvin:', conversion_grados(1, 'farenheit', 'kelvin'))\n",
    "print('1 grado Farenheit a Farenheit:', conversion_grados(1, 'farenheit', 'farenheit'))"
   ]
  },
  {
   "attachments": {},
   "cell_type": "markdown",
   "metadata": {},
   "source": [
    "5) Iterando una lista con los tres valores posibles de temperatura que recibe la función del punto 5, hacer un print para cada combinación de los mismos:"
   ]
  },
  {
   "cell_type": "code",
   "execution_count": 56,
   "metadata": {},
   "outputs": [
    {
     "name": "stdout",
     "output_type": "stream",
     "text": [
      "1 grado  C  a  C : 1\n",
      "1 grado  C  a  K : 274.15\n",
      "1 grado  C  a  F : 33.8\n",
      "1 grado  K  a  C : -272.15\n",
      "1 grado  K  a  K : 1\n",
      "1 grado  K  a  F : -457.87\n",
      "1 grado  F  a  C : -17.22222222222222\n",
      "1 grado  F  a  K : 255.92777777777775\n",
      "1 grado  F  a  F : 1\n"
     ]
    }
   ],
   "source": [
    "grados = ['C', 'K', 'F']\n",
    "for x in range(0,3):\n",
    "    for y in range(0,3):\n",
    "        print(\"1 grado \",grados[x],\" a \", grados[y],\":\",convertidor_grados(1,grados[x],grados[y]))"
   ]
  },
  {
   "cell_type": "code",
   "execution_count": 53,
   "metadata": {},
   "outputs": [
    {
     "name": "stdout",
     "output_type": "stream",
     "text": [
      "1 grado celsius a celsius : 1\n",
      "1 grado celsius a kelvin : 274.15\n",
      "1 grado celsius a farenheit : 33.8\n",
      "1 grado kelvin a celsius : -272.15\n",
      "1 grado kelvin a kelvin : 1\n",
      "1 grado kelvin a farenheit : -457.87\n",
      "1 grado farenheit a celsius : -17.22222222222222\n",
      "1 grado farenheit a kelvin : 255.92777777777775\n",
      "1 grado farenheit a farenheit : 1\n"
     ]
    }
   ],
   "source": [
    "metricas = ['celsius', 'kelvin', 'farenheit']  # Lista de las unidades métricas\n",
    "\n",
    "for i in range(0, 3):  # Bucle exterior que itera sobre los índices de la lista de metricas\n",
    "    for j in range(0, 3):  # Bucle interior que itera sobre los índices de la lista de metricas\n",
    "        # Se imprime la conversión de 1 grado desde la unidad métrica en el índice i a la unidad métrica en el índice j\n",
    "        # utilizando la función de conversión_grados\n",
    "        print('1 grado', metricas[i], 'a', metricas[j], ':', conversion_grados(1, metricas[i], metricas[j]))"
   ]
  },
  {
   "attachments": {},
   "cell_type": "markdown",
   "metadata": {},
   "source": [
    "6) Armar una función que devuelva el factorial de un número. Tener en cuenta que el usuario puede equivocarse y enviar de parámetro un número no entero o negativo"
   ]
  },
  {
   "cell_type": "code",
   "execution_count": 70,
   "metadata": {},
   "outputs": [],
   "source": [
    "def factorial(numero):\n",
    "    if (type(numero) == int) and (int(numero)>0):\n",
    "        if (numero >1):\n",
    "            numero = numero * factorial(numero-1)\n",
    "        return numero\n",
    "    else:\n",
    "        print(\"Valor decimal o negativo\")\n",
    "        return None\n"
   ]
  },
  {
   "cell_type": "code",
   "execution_count": 72,
   "metadata": {},
   "outputs": [],
   "source": [
    "def factorial_2(numero):\n",
    "    # Verifica si el número no es entero y devuelve un mensaje de error\n",
    "    if type(numero) != int:\n",
    "        return 'El número debe ser un entero'\n",
    "    \n",
    "    # Verifica si el número es negativo y devuelve un mensaje de error\n",
    "    if numero < 0:\n",
    "        return 'El número debe ser positivo'\n",
    "    \n",
    "    # Caso base: si el número es 0 o 1, el factorial es 1\n",
    "    if numero <= 1:\n",
    "        return 1\n",
    "    \n",
    "    # Recursión: calcula el factorial del número multiplicándolo por el factorial del número anterior\n",
    "    numero = numero * factorial(numero - 1)\n",
    "    \n",
    "    return numero\n"
   ]
  },
  {
   "cell_type": "code",
   "execution_count": 71,
   "metadata": {},
   "outputs": [
    {
     "name": "stdout",
     "output_type": "stream",
     "text": [
      "24\n",
      "120\n",
      "Valor decimal o negativo\n",
      "None\n",
      "Valor decimal o negativo\n",
      "None\n"
     ]
    }
   ],
   "source": [
    "print(factorial(4))\n",
    "print(factorial(5))\n",
    "print(factorial(-4))\n",
    "print(factorial(0.54))"
   ]
  },
  {
   "cell_type": "code",
   "execution_count": 73,
   "metadata": {},
   "outputs": [
    {
     "name": "stdout",
     "output_type": "stream",
     "text": [
      "120\n",
      "El número debe ser positivo\n",
      "El número debe ser un entero\n",
      "El número debe ser un entero\n"
     ]
    }
   ],
   "source": [
    "print(factorial_2(5))\n",
    "print(factorial_2(-2))\n",
    "print(factorial_2(1.23))\n",
    "print(factorial_2('6'))"
   ]
  }
 ],
 "metadata": {
  "interpreter": {
   "hash": "c85384e4cb51c8b72350f3a8712cc8351fdc3955e32a27f9b60c6242ab125f01"
  },
  "kernelspec": {
   "display_name": "Python 3 (ipykernel)",
   "language": "python",
   "name": "python3"
  },
  "language_info": {
   "codemirror_mode": {
    "name": "ipython",
    "version": 3
   },
   "file_extension": ".py",
   "mimetype": "text/x-python",
   "name": "python",
   "nbconvert_exporter": "python",
   "pygments_lexer": "ipython3",
   "version": "3.11.4"
  }
 },
 "nbformat": 4,
 "nbformat_minor": 4
}
